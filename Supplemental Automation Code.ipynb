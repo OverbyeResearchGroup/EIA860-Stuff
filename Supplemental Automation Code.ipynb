{
 "cells": [
  {
   "cell_type": "code",
   "execution_count": 4,
   "metadata": {},
   "outputs": [],
   "source": [
    "# Written by Jordan Cook 1/18/24 \n",
    "\n",
    "import pandas as pd \n",
    "import numpy as np\n",
    "import openpyxl\n",
    "import shutil"
   ]
  },
  {
   "cell_type": "code",
   "execution_count": 5,
   "metadata": {},
   "outputs": [],
   "source": [
    "# Start by downloading the monthly supplement you want and putting it in the supplement folder \n",
    "month = 'september' #NO capitals\n",
    "year = '2024'\n",
    "file_path = f\"C:/Users/jordancook/OneDrive - Texas A&M University/TAMU Grad School/Research/EIA Data/Supplements/{month.lower()}_generator{year}.xlsx\"\n",
    "supp = pd.read_excel(file_path, skiprows=2)\n",
    "\n",
    "# Monthly supplement edits \n",
    "supp = supp.iloc[:-2]\n",
    "supp = supp[(supp['Status'] == '(SB) Standby/Backup: available for service but not normally used') |\n",
    "            (supp['Status'] == '(OP) Operating')]\n",
    "\n",
    "columns_to_delete = ['Entity ID', 'Entity Name', 'Plant Name', 'Google Map', 'Bing Map', 'Plant State', 'County', 'Balancing Authority Code', 'Sector']\n",
    "supp = supp.drop(columns=columns_to_delete)\n",
    "\n",
    "supp = supp.rename(columns={'Plant ID': 'Number of Bus'})\n",
    "\n",
    "col_name = 'ID'\n",
    "supp.insert(1, col_name, None)\n",
    "\n",
    "supp = supp.sort_values(by='Number of Bus')\n",
    "\n",
    "col_name = 'Primary Label' \n",
    "supp.insert(2, col_name, None)\n",
    "\n",
    "supp['Number of Bus'] = supp['Number of Bus'].astype(int)\n",
    "supp['Primary Label'] = supp['Number of Bus'].astype(str) + '_' + supp['Generator ID'].astype(str)\n",
    "\n",
    "supp['ID'] = supp.index % 100\n",
    "\n",
    "supp = supp.rename(columns={'Prime Mover Code': 'Unit Type Code'})\n",
    "supp = supp.rename(columns={'Energy Source Code': 'Fuel Type Code'})\n",
    "\n",
    "supp['Min MW'] = 0\n",
    "supp['Status'] = 'Yes'\n",
    "supp['Set Volt '] = 1.0 \n",
    "supp['Gen MW set point'] = 0 \n",
    "supp['Max Mvar'] = 0 \n",
    "supp['Min Mvar'] = 0 \n",
    "supp['Gen Mvar set point'] = 0 \n",
    "supp['AGC'] = 'No'\n",
    "supp['AVR'] = 'No'\n",
    "supp['MVA Base'] = supp['Nameplate Capacity (MW)']\n",
    "supp['RegBus Num'] = supp['Number of Bus']\n",
    "\n",
    "supp['Net Summer Capacity (MW)'] = pd.to_numeric(supp['Net Summer Capacity (MW)'], errors='coerce')\n",
    "supp['Net Winter Capacity (MW)'] = pd.to_numeric(supp['Net Winter Capacity (MW)'], errors='coerce')\n",
    "supp['Max MW'] = np.maximum(supp['Net Summer Capacity (MW)'], supp['Net Winter Capacity (MW)'])\n",
    "\n",
    "columns_to_delete = ['Unit Code', 'Nameplate Capacity (MW)', 'Net Summer Capacity (MW)', 'Net Winter Capacity (MW)', 'Technology']\n",
    "supp = supp.drop(columns=columns_to_delete)\n",
    "\n",
    "supp = supp.rename(columns={'Operating Month': 'Operating Date Month'})\n",
    "supp = supp.rename(columns={'Operating Year': 'Operating Date Year'})\n",
    "#supp = supp.rename(columns={'Planned Retirement Month': 'Retired Date Month'}) #Don't want these right now \n",
    "#supp = supp.rename(columns={'Planned Retirement Year': 'Retired Date Year'})\n",
    "\n",
    "columns_to_delete = ['Nameplate Energy Capacity (MWh)', 'DC Net Capacity (MW)', 'Planned Derate Year', 'Planned Derate Month', 'Planned Derate of Summer Capacity (MW)', \n",
    "                     'Planned Uprate Year', 'Planned Uprate Month', 'Planned Uprate of Summer Capacity (MW)', 'Latitude', 'Longitude']\n",
    "supp = supp.drop(columns=columns_to_delete)\n",
    "\n",
    "supp.to_excel(f'{month}{year}_PWready.xlsx', index=False)\n",
    "\n",
    "#Now adding in the Gen at the top to paste in\n",
    "workbook = openpyxl.load_workbook(f'{month}{year}_PWready.xlsx')\n",
    "sheet = workbook.worksheets[0]\n",
    "sheet.insert_rows(1)\n",
    "sheet['A1'] = 'Gen'\n",
    "workbook.save(f'{month}{year}_PWready.xlsx')\n",
    "\n",
    "# Now you have to delete all PW gens, copy and paste in the Excel file, but don't delete the slack generator"
   ]
  },
  {
   "cell_type": "code",
   "execution_count": 6,
   "metadata": {},
   "outputs": [
    {
     "data": {
      "text/plain": [
       "'C:/Users/jordancook/OneDrive - Texas A&M University/TAMU Grad School/Research/EIA Data/Automation Code/Supplements - PW Ready/september2024_PWready.xlsx'"
      ]
     },
     "execution_count": 6,
     "metadata": {},
     "output_type": "execute_result"
    }
   ],
   "source": [
    "destination_folder = \"C:/Users/jordancook/OneDrive - Texas A&M University/TAMU Grad School/Research/EIA Data/Automation Code/Supplements - PW Ready\" #CHANGE THIS FOLDER\n",
    "\n",
    "# Move the file to the destination folder\n",
    "shutil.move(f'{month}{year}_PWready.xlsx', f'{destination_folder}/{month}{year}_PWready.xlsx')"
   ]
  }
 ],
 "metadata": {
  "kernelspec": {
   "display_name": "Python 3.9.12 ('base')",
   "language": "python",
   "name": "python3"
  },
  "language_info": {
   "codemirror_mode": {
    "name": "ipython",
    "version": 3
   },
   "file_extension": ".py",
   "mimetype": "text/x-python",
   "name": "python",
   "nbconvert_exporter": "python",
   "pygments_lexer": "ipython3",
   "version": "3.9.12"
  },
  "orig_nbformat": 4,
  "vscode": {
   "interpreter": {
    "hash": "ad2bdc8ecc057115af97d19610ffacc2b4e99fae6737bb82f5d7fb13d2f2c186"
   }
  }
 },
 "nbformat": 4,
 "nbformat_minor": 2
}
